{
 "cells": [
  {
   "cell_type": "code",
   "execution_count": 1,
   "metadata": {},
   "outputs": [],
   "source": [
    "import os\n",
    "import pandas as pd\n",
    "import requests\n",
    "import shutil\n",
    "import lxml.html\n",
    "from lxml.cssselect import CSSSelector"
   ]
  },
  {
   "cell_type": "code",
   "execution_count": 14,
   "metadata": {},
   "outputs": [],
   "source": [
    "root_dir = '../data'"
   ]
  },
  {
   "cell_type": "code",
   "execution_count": 3,
   "metadata": {},
   "outputs": [],
   "source": [
    "pokemon_df = pd.read_csv('PokemonList.csv')"
   ]
  },
  {
   "cell_type": "code",
   "execution_count": 4,
   "metadata": {},
   "outputs": [
    {
     "data": {
      "text/html": [
       "<div>\n",
       "<style scoped>\n",
       "    .dataframe tbody tr th:only-of-type {\n",
       "        vertical-align: middle;\n",
       "    }\n",
       "\n",
       "    .dataframe tbody tr th {\n",
       "        vertical-align: top;\n",
       "    }\n",
       "\n",
       "    .dataframe thead th {\n",
       "        text-align: right;\n",
       "    }\n",
       "</style>\n",
       "<table border=\"1\" class=\"dataframe\">\n",
       "  <thead>\n",
       "    <tr style=\"text-align: right;\">\n",
       "      <th></th>\n",
       "      <th>Ndex</th>\n",
       "      <th>Pokemon</th>\n",
       "      <th>Type</th>\n",
       "      <th>Type2</th>\n",
       "    </tr>\n",
       "  </thead>\n",
       "  <tbody>\n",
       "    <tr>\n",
       "      <th>0</th>\n",
       "      <td>#001</td>\n",
       "      <td>Bulbasaur</td>\n",
       "      <td>Grass</td>\n",
       "      <td>Poison</td>\n",
       "    </tr>\n",
       "    <tr>\n",
       "      <th>1</th>\n",
       "      <td>#002</td>\n",
       "      <td>Ivysaur</td>\n",
       "      <td>Grass</td>\n",
       "      <td>Poison</td>\n",
       "    </tr>\n",
       "    <tr>\n",
       "      <th>2</th>\n",
       "      <td>#003</td>\n",
       "      <td>Venusaur</td>\n",
       "      <td>Grass</td>\n",
       "      <td>Poison</td>\n",
       "    </tr>\n",
       "    <tr>\n",
       "      <th>3</th>\n",
       "      <td>#004</td>\n",
       "      <td>Charmander</td>\n",
       "      <td>Fire</td>\n",
       "      <td>NaN</td>\n",
       "    </tr>\n",
       "    <tr>\n",
       "      <th>4</th>\n",
       "      <td>#005</td>\n",
       "      <td>Charmeleon</td>\n",
       "      <td>Fire</td>\n",
       "      <td>NaN</td>\n",
       "    </tr>\n",
       "  </tbody>\n",
       "</table>\n",
       "</div>"
      ],
      "text/plain": [
       "    Ndex     Pokemon   Type   Type2\n",
       "0   #001   Bulbasaur  Grass  Poison\n",
       "1   #002     Ivysaur  Grass  Poison\n",
       "2   #003    Venusaur  Grass  Poison\n",
       "3   #004  Charmander   Fire     NaN\n",
       "4   #005  Charmeleon   Fire     NaN"
      ]
     },
     "execution_count": 4,
     "metadata": {},
     "output_type": "execute_result"
    }
   ],
   "source": [
    "pokemon_df.head()"
   ]
  },
  {
   "cell_type": "code",
   "execution_count": 5,
   "metadata": {},
   "outputs": [],
   "source": [
    "pokemon_list = pokemon_df['Pokemon'].iloc[:151]"
   ]
  },
  {
   "cell_type": "code",
   "execution_count": 8,
   "metadata": {},
   "outputs": [],
   "source": [
    "# skip = ['Bulbasaur', 'Charmander', 'Squirtle', 'Pikachu']\n",
    "skip = []"
   ]
  },
  {
   "cell_type": "code",
   "execution_count": 9,
   "metadata": {},
   "outputs": [],
   "source": [
    "pokemon_list = pokemon_list[pokemon_list.apply(lambda x: x not in skip)].values"
   ]
  },
  {
   "cell_type": "code",
   "execution_count": 10,
   "metadata": {},
   "outputs": [
    {
     "name": "stdout",
     "output_type": "stream",
     "text": [
      "['Bulbasaur' 'Ivysaur' 'Venusaur' 'Charmander' 'Charmeleon' 'Charizard'\n",
      " 'Squirtle' 'Wartortle' 'Blastoise' 'Caterpie' 'Metapod' 'Butterfree'\n",
      " 'Weedle' 'Kakuna' 'Beedrill' 'Pidgey' 'Pidgeotto' 'Pidgeot' 'Rattata'\n",
      " 'Raticate' 'Spearow' 'Fearow' 'Ekans' 'Arbok' 'Pikachu' 'Raichu'\n",
      " 'Sandshrew' 'Sandslash' 'Nidoran+F' 'Nidorina' 'Nidoqueen' 'Nidoran+M'\n",
      " 'Nidorino' 'Nidoking' 'Clefairy' 'Clefable' 'Vulpix' 'Ninetales'\n",
      " 'Jigglypuff' 'Wigglytuff' 'Zubat' 'Golbat' 'Oddish' 'Gloom' 'Vileplume'\n",
      " 'Paras' 'Parasect' 'Venonat' 'Venomoth' 'Diglett' 'Dugtrio' 'Meowth'\n",
      " 'Persian' 'Psyduck' 'Golduck' 'Mankey' 'Primeape' 'Growlithe' 'Arcanine'\n",
      " 'Poliwag' 'Poliwhirl' 'Poliwrath' 'Abra' 'Kadabra' 'Alakazam' 'Machop'\n",
      " 'Machoke' 'Machamp' 'Bellsprout' 'Weepinbell' 'Victreebel' 'Tentacool'\n",
      " 'Tentacruel' 'Geodude' 'Graveler' 'Golem' 'Ponyta' 'Rapidash' 'Slowpoke'\n",
      " 'Slowbro' 'Magnemite' 'Magneton' 'Farfetch+d' 'Doduo' 'Dodrio' 'Seel'\n",
      " 'Dewgong' 'Grimer' 'Muk' 'Shellder' 'Cloyster' 'Gastly' 'Haunter' 'Gengar'\n",
      " 'Onix' 'Drowzee' 'Hypno' 'Krabby' 'Kingler' 'Voltorb' 'Electrode'\n",
      " 'Exeggcute' 'Exeggutor' 'Cubone' 'Marowak' 'Hitmonlee' 'Hitmonchan'\n",
      " 'Lickitung' 'Koffing' 'Weezing' 'Rhyhorn' 'Rhydon' 'Chansey' 'Tangela'\n",
      " 'Kangaskhan' 'Horsea' 'Seadra' 'Goldeen' 'Seaking' 'Staryu' 'Starmie'\n",
      " 'Mr.+Mime' 'Scyther' 'Jynx' 'Electabuzz' 'Magmar' 'Pinsir' 'Tauros'\n",
      " 'Magikarp' 'Gyarados' 'Lapras' 'Ditto' 'Eevee' 'Vaporeon' 'Jolteon'\n",
      " 'Flareon' 'Porygon' 'Omanyte' 'Omastar' 'Kabuto' 'Kabutops' 'Aerodactyl'\n",
      " 'Snorlax' 'Articuno' 'Zapdos' 'Moltres' 'Dratini' 'Dragonair' 'Dragonite'\n",
      " 'Mewtwo' 'Mew']\n"
     ]
    }
   ],
   "source": [
    "print(pokemon_list)"
   ]
  },
  {
   "cell_type": "code",
   "execution_count": 54,
   "metadata": {},
   "outputs": [],
   "source": [
    "extra_kws = ['', 'anime', 'episode', 'tcg', 'illustration', 'pokemon+go']\n",
    "filter_kws = ['-realistic', '-creepy', '-chibi']\n",
    "sel = CSSSelector('img')"
   ]
  },
  {
   "cell_type": "code",
   "execution_count": null,
   "metadata": {
    "scrolled": true
   },
   "outputs": [],
   "source": [
    "for pokemon in pokemon_list:\n",
    "    if not os.path.exists(root_dir + pokemon):\n",
    "        os.makedirs(root_dir + pokemon)\n",
    "    img_results = []\n",
    "    for extra_kw in extra_kws:\n",
    "        keywords = '+'.join([pokemon, extra_kw, '+'.join(filter_kws)])\n",
    "        response = requests.get(f'https://www.google.com.pe/search?q={keywords}&tbm=isch')\n",
    "        results = sel(lxml.html.fromstring(response.text))\n",
    "        img_results += [result.attrib['src'] for result in results]\n",
    "    for idx, image_url in enumerate(img_results):\n",
    "        response = requests.get(image_url, stream=True)\n",
    "        print(image_url)\n",
    "        with open(root_dir + pokemon + f'/{pokemon}-' + str(idx) + '.png', 'wb') as out_file:\n",
    "            shutil.copyfileobj(response.raw, out_file)"
   ]
  },
  {
   "cell_type": "markdown",
   "metadata": {},
   "source": [
    "## Extra images\n"
   ]
  },
  {
   "cell_type": "code",
   "execution_count": 60,
   "metadata": {},
   "outputs": [],
   "source": [
    "target_dir = 'data_151'\n",
    "src_dir = 'external'"
   ]
  },
  {
   "cell_type": "code",
   "execution_count": 17,
   "metadata": {},
   "outputs": [],
   "source": [
    "import os"
   ]
  },
  {
   "cell_type": "code",
   "execution_count": 58,
   "metadata": {},
   "outputs": [],
   "source": [
    "folders = [folder for folder in os.listdir(f'{root_dir}/{src_dir}') \\\n",
    "           if os.path.isdir(f'{root_dir}/{src_dir}/{folder}')]"
   ]
  },
  {
   "cell_type": "code",
   "execution_count": 59,
   "metadata": {},
   "outputs": [
    {
     "data": {
      "text/plain": [
       "['generation-1',\n",
       " 'generation-2',\n",
       " 'generation-3',\n",
       " 'generation-4',\n",
       " 'pokemon-conquest',\n",
       " 'pokemon-global-link',\n",
       " 'pokemon-icons',\n",
       " 'pokemon-sugimori']"
      ]
     },
     "execution_count": 59,
     "metadata": {},
     "output_type": "execute_result"
    }
   ],
   "source": [
    "folders"
   ]
  },
  {
   "cell_type": "code",
   "execution_count": 62,
   "metadata": {},
   "outputs": [],
   "source": [
    "def scrape_dir(src_path, target_dir):\n",
    "    files = os.listdir(f'{src_path}')\n",
    "    for file in files:\n",
    "        if os.path.isdir(f'{src_path}/{file}'):\n",
    "            print(f'{src_path}/{file}')\n",
    "            scrape_dir(f'{src_path}/{file}', target_dir)\n",
    "        else:\n",
    "            try:\n",
    "                number = int(file.split('.')[0])\n",
    "                if number >= 1 and number <= 151:\n",
    "                    if not os.path.exists(f'{target_dir}/{pokemon_list[number-1]}'):\n",
    "                        os.makedirs(f'{target_dir}/{pokemon_list[number-1]}')\n",
    "                    shutil.copyfile(f'{src_path}/{file}',\n",
    "                        f'{target_dir}/{pokemon_list[number-1]}/{inc[number-1]}-{file}')\n",
    "                    inc[number-1] += 1\n",
    "            except:\n",
    "                pass"
   ]
  },
  {
   "cell_type": "code",
   "execution_count": 63,
   "metadata": {},
   "outputs": [
    {
     "name": "stdout",
     "output_type": "stream",
     "text": [
      "../data/external/generation-1/pokemon\n",
      "../data/external/generation-1/pokemon/main-sprites\n",
      "../data/external/generation-1/pokemon/main-sprites/red-blue\n",
      "../data/external/generation-1/pokemon/main-sprites/red-blue/gray\n",
      "../data/external/generation-1/pokemon/main-sprites/red-green\n",
      "../data/external/generation-1/pokemon/main-sprites/red-green/gray\n",
      "../data/external/generation-1/pokemon/main-sprites/yellow\n",
      "../data/external/generation-1/pokemon/main-sprites/yellow/gbc\n",
      "../data/external/generation-1/pokemon/main-sprites/yellow/gray\n",
      "../data/external/generation-2/pokemon\n",
      "../data/external/generation-2/pokemon/main-sprites\n",
      "../data/external/generation-2/pokemon/main-sprites/crystal\n",
      "../data/external/generation-2/pokemon/main-sprites/crystal/shiny\n",
      "../data/external/generation-2/pokemon/main-sprites/gold\n",
      "../data/external/generation-2/pokemon/main-sprites/gold/shiny\n",
      "../data/external/generation-2/pokemon/main-sprites/silver\n",
      "../data/external/generation-2/pokemon/main-sprites/silver/shiny\n",
      "../data/external/generation-3/pokemon\n",
      "../data/external/generation-3/pokemon/main-sprites\n",
      "../data/external/generation-3/pokemon/main-sprites/emerald\n",
      "../data/external/generation-3/pokemon/main-sprites/emerald/frame2\n",
      "../data/external/generation-3/pokemon/main-sprites/emerald/shiny\n",
      "../data/external/generation-3/pokemon/main-sprites/emerald/shiny/frame2\n",
      "../data/external/generation-3/pokemon/main-sprites/firered-leafgreen\n",
      "../data/external/generation-3/pokemon/main-sprites/firered-leafgreen/shiny\n",
      "../data/external/generation-3/pokemon/main-sprites/ruby-sapphire\n",
      "../data/external/generation-3/pokemon/main-sprites/ruby-sapphire/shiny\n",
      "../data/external/generation-4/pokemon\n",
      "../data/external/generation-4/pokemon/main-sprites\n",
      "../data/external/generation-4/pokemon/main-sprites/diamond-pearl\n",
      "../data/external/generation-4/pokemon/main-sprites/diamond-pearl/female\n",
      "../data/external/generation-4/pokemon/main-sprites/diamond-pearl/female/frame2\n",
      "../data/external/generation-4/pokemon/main-sprites/diamond-pearl/frame2\n",
      "../data/external/generation-4/pokemon/main-sprites/diamond-pearl/shiny\n",
      "../data/external/generation-4/pokemon/main-sprites/diamond-pearl/shiny/female\n",
      "../data/external/generation-4/pokemon/main-sprites/diamond-pearl/shiny/female/frame2\n",
      "../data/external/generation-4/pokemon/main-sprites/diamond-pearl/shiny/frame2\n",
      "../data/external/generation-4/pokemon/main-sprites/heartgold-soulsilver\n",
      "../data/external/generation-4/pokemon/main-sprites/heartgold-soulsilver/female\n",
      "../data/external/generation-4/pokemon/main-sprites/heartgold-soulsilver/female/frame2\n",
      "../data/external/generation-4/pokemon/main-sprites/heartgold-soulsilver/frame2\n",
      "../data/external/generation-4/pokemon/main-sprites/heartgold-soulsilver/shiny\n",
      "../data/external/generation-4/pokemon/main-sprites/heartgold-soulsilver/shiny/female\n",
      "../data/external/generation-4/pokemon/main-sprites/heartgold-soulsilver/shiny/female/frame2\n",
      "../data/external/generation-4/pokemon/main-sprites/heartgold-soulsilver/shiny/frame2\n",
      "../data/external/generation-4/pokemon/main-sprites/platinum\n",
      "../data/external/generation-4/pokemon/main-sprites/platinum/female\n",
      "../data/external/generation-4/pokemon/main-sprites/platinum/female/frame2\n",
      "../data/external/generation-4/pokemon/main-sprites/platinum/frame2\n",
      "../data/external/generation-4/pokemon/main-sprites/platinum/shiny\n",
      "../data/external/generation-4/pokemon/main-sprites/platinum/shiny/female\n",
      "../data/external/generation-4/pokemon/main-sprites/platinum/shiny/female/frame2\n",
      "../data/external/generation-4/pokemon/main-sprites/platinum/shiny/frame2\n",
      "../data/external/pokemon-conquest/pokemon\n",
      "../data/external/pokemon-conquest/pokemon/conquest\n",
      "../data/external/pokemon-global-link/pokemon\n",
      "../data/external/pokemon-global-link/pokemon/global-link\n",
      "../data/external/pokemon-icons/pokemon\n",
      "../data/external/pokemon-icons/pokemon/icons\n",
      "../data/external/pokemon-icons/pokemon/icons/old\n",
      "../data/external/pokemon-icons/pokemon/icons/right\n",
      "../data/external/pokemon-sugimori/pokemon\n",
      "../data/external/pokemon-sugimori/pokemon/sugimori\n"
     ]
    }
   ],
   "source": [
    "inc = [0] * 200\n",
    "for folder in folders:\n",
    "    scrape_dir(f'{root_dir}/{src_dir}/{folder}', f'{root_dir}/{target_dir}')"
   ]
  },
  {
   "cell_type": "code",
   "execution_count": null,
   "metadata": {},
   "outputs": [],
   "source": []
  }
 ],
 "metadata": {
  "kernelspec": {
   "display_name": "Python 3",
   "language": "python",
   "name": "python3"
  },
  "language_info": {
   "codemirror_mode": {
    "name": "ipython",
    "version": 3
   },
   "file_extension": ".py",
   "mimetype": "text/x-python",
   "name": "python",
   "nbconvert_exporter": "python",
   "pygments_lexer": "ipython3",
   "version": "3.6.3"
  }
 },
 "nbformat": 4,
 "nbformat_minor": 2
}
